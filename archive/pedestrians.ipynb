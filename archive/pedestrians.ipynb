{
 "cells": [
  {
   "cell_type": "code",
   "execution_count": null,
   "metadata": {
    "collapsed": true
   },
   "outputs": [],
   "source": [
    "%matplotlib inline\n",
    "import seaborn as sns\n",
    "sns.set()\n",
    "\n",
    "from datetime import datetime, date\n",
    "import logging\n",
    "\n",
    "from octo_spork.query import Range, In, Column, Query, And, EqualTo\n",
    "from octo_spork.pandas_engine import PandasEngine\n",
    "from octo_spork.resolution_tree import create_tree, run_tree, DataSources\n",
    "\n",
    "logging.basicConfig(level=logging.INFO)"
   ]
  },
  {
   "cell_type": "code",
   "execution_count": null,
   "metadata": {
    "collapsed": true
   },
   "outputs": [],
   "source": [
    "from pedestrians import PedestrianSource\n",
    "\n",
    "\n",
    "class FrontEndColumn(object):\n",
    "\n",
    "    def __init__(self, column):\n",
    "        self._column = column\n",
    "\n",
    "    def isin(self, valueset):\n",
    "        return In(self._column, valueset)\n",
    "\n",
    "    def between(self, lower, upper):\n",
    "        return Range(self._column, lower=lower, upper=upper, incl_lower=True, incl_upper=True)\n",
    "\n",
    "    def __eq__(self, value):\n",
    "        return EqualTo(self._column, value)\n",
    "\n",
    "\n",
    "class PedestrianCounts(object):\n",
    "\n",
    "    table = 'counts'\n",
    "\n",
    "    datetime = FrontEndColumn(Column('counts', 'datetime'))\n",
    "    sensor_id = FrontEndColumn(Column('counts', 'sensor_id'))\n",
    "    hourly_count = FrontEndColumn(Column('counts', 'hourly_count'))\n",
    "\n",
    "    columns = [datetime._column, sensor_id._column, hourly_count._column]\n",
    "\n",
    "    sources = DataSources(\n",
    "        source_order=['counts'],\n",
    "        source_map={'counts': PedestrianSource()},\n",
    "        source_tables={'counts': {'counts'}})\n",
    "\n",
    "    def __init__(self, where=None):\n",
    "        self._where = where\n",
    "\n",
    "    def where(self, expression):\n",
    "        if self._where is None:\n",
    "            return self.__class__(expression)\n",
    "        else:\n",
    "            return self.__class__(And([self._where, expression]))\n",
    "\n",
    "    def get(self):\n",
    "        query = Query(table=self.table, select=self.columns, where=self._where)\n",
    "        engine = PandasEngine()\n",
    "        result_store = dict()\n",
    "        tree = create_tree(query, self.sources)\n",
    "        return run_tree(tree, self.sources, engine, result_store)\n",
    "\n",
    "    def plot_timeseries(self, ts, value, group=None):\n",
    "        if group is None:\n",
    "            self.get().set_index(ts)[value].plot()\n",
    "        else:\n",
    "            self.get().set_index([ts, group]).unstack()[value].plot()"
   ]
  },
  {
   "cell_type": "code",
   "execution_count": null,
   "metadata": {
    "collapsed": true
   },
   "outputs": [],
   "source": [
    "# Create a dataset object filtered to our time range.\n",
    "peds = PedestrianCounts()\n",
    "peds = peds.where(peds.datetime.between(datetime(2016, 5, 1), datetime(2016, 5, 8)))"
   ]
  },
  {
   "cell_type": "code",
   "execution_count": null,
   "metadata": {
    "scrolled": false
   },
   "outputs": [],
   "source": [
    "# Filter to single sensor and plot results.\n",
    "peds.where(peds.sensor_id == 1).plot_timeseries(ts='datetime', value='hourly_count')"
   ]
  },
  {
   "cell_type": "code",
   "execution_count": null,
   "metadata": {},
   "outputs": [],
   "source": [
    "# Filter multi sensors and plot results.\n",
    "peds.where(peds.sensor_id.isin([1, 2, 3])).plot_timeseries(ts='datetime', value='hourly_count', group='sensor_id')"
   ]
  },
  {
   "cell_type": "code",
   "execution_count": null,
   "metadata": {
    "collapsed": true
   },
   "outputs": [],
   "source": []
  }
 ],
 "metadata": {
  "kernelspec": {
   "display_name": "Python 3",
   "language": "python",
   "name": "python3"
  },
  "language_info": {
   "codemirror_mode": {
    "name": "ipython",
    "version": 3
   },
   "file_extension": ".py",
   "mimetype": "text/x-python",
   "name": "python",
   "nbconvert_exporter": "python",
   "pygments_lexer": "ipython3",
   "version": "3.5.3"
  }
 },
 "nbformat": 4,
 "nbformat_minor": 2
}
