{
 "cells": [
  {
   "cell_type": "code",
   "execution_count": null,
   "metadata": {},
   "outputs": [],
   "source": [
    "import functools\n",
    "from frozendict import frozendict\n",
    "import msgpack\n",
    "import sqlalchemy\n",
    "sql = sqlalchemy.sql"
   ]
  },
  {
   "cell_type": "code",
   "execution_count": null,
   "metadata": {
    "scrolled": false
   },
   "outputs": [],
   "source": [
    "class Column(frozendict):\n",
    "\n",
    "    def __init__(self, name):\n",
    "        super().__init__(dict(expr='column', name=name))\n",
    "\n",
    "    def __repr__(self):\n",
    "        return self['name']\n",
    "\n",
    "class Equals(frozendict):\n",
    "\n",
    "    def __init__(self, column, value):\n",
    "        super().__init__(dict(expr='equals', column=column, value=value))\n",
    "\n",
    "    def __repr__(self):\n",
    "        return '{} == {}'.format(self['column'], self['value'])\n",
    "\n",
    "class And(frozendict):\n",
    "\n",
    "    def __init__(self, expressions):\n",
    "        super().__init__(dict(expr='and', data=frozenset(expressions)))\n",
    "\n",
    "    def __repr__(self):\n",
    "        return '({})'.format(' & '.join(repr(e) for e in self['data']))\n",
    "        # return '<And {}>'.format(repr(set(self['data'])))\n",
    "\n",
    "class Or(frozendict):\n",
    "\n",
    "    def __init__(self, expressions):\n",
    "        super().__init__(dict(expr='or', data=frozenset(expressions)))\n",
    "\n",
    "    def __repr__(self):\n",
    "        return '({})'.format(' || '.join(repr(e) for e in self['data']))\n",
    "        # return '<Or {}>'.format(repr(set(self['data'])))\n",
    "\n",
    "class Not(frozendict):\n",
    "\n",
    "    def __init__(self, expression):\n",
    "        super().__init__(dict(expr='not', data=expression))\n",
    "\n",
    "    def __repr__(self):\n",
    "        return '~{}'.format(repr(self['data']))\n",
    "        # return '<Not {}>'.format(repr(self['data']))\n",
    "\n",
    "def encode(obj):\n",
    "    ''' Handle frozen things. Note that since order of iteration over a set is arbitrary,\n",
    "    byte representation will not be consistent. '''\n",
    "    if isinstance(obj, frozendict):\n",
    "        return dict(obj)\n",
    "    if isinstance(obj, frozenset):\n",
    "        return list(obj)\n",
    "    return obj\n",
    "\n",
    "def decode(obj):\n",
    "    if obj['expr'] == 'column':\n",
    "        return Column(obj['name'])\n",
    "    if obj['expr'] == 'equals':\n",
    "        return Equals(obj['column'], obj['value'])\n",
    "    if obj['expr'] == 'and':\n",
    "        return And(obj['data'])\n",
    "    if obj['expr'] == 'or':\n",
    "        return Or(obj['data'])\n",
    "    if obj['expr'] == 'not':\n",
    "        return Not(obj['data'])\n",
    "    return obj\n",
    "\n",
    "packb = functools.partial(msgpack.packb, default=encode, use_bin_type=False)\n",
    "unpackb = functools.partial(msgpack.unpackb, object_hook=decode, encoding='utf-8')"
   ]
  },
  {
   "cell_type": "code",
   "execution_count": null,
   "metadata": {},
   "outputs": [],
   "source": [
    "obj = Or([\n",
    "    And([Equals(Column('a'), 1)]),\n",
    "    Not(And([Equals(Column('b'), 2), Equals(Column('c'), 1)]))])\n",
    "print(obj)\n",
    "print(unpackb(packb(obj)))\n",
    "print(obj == unpackb(packb(obj)))\n",
    "print(packb(obj))"
   ]
  },
  {
   "cell_type": "code",
   "execution_count": null,
   "metadata": {},
   "outputs": [],
   "source": [
    "class SQLAlchemyConverter(object):\n",
    "\n",
    "    def __init__(self, column_map):\n",
    "        self._column_map = column_map\n",
    "\n",
    "    def convert(self, obj):\n",
    "        if isinstance(obj, Column):\n",
    "            return self._column_map[obj]\n",
    "        if isinstance(obj, Equals):\n",
    "            return self.convert(obj['column']) == self.convert(obj['value'])\n",
    "        if isinstance(obj, And):\n",
    "            return sql.and_(*(self.convert(clause) for clause in obj['data']))\n",
    "        if isinstance(obj, Or):\n",
    "            return sql.or_(*(self.convert(clause) for clause in obj['data']))\n",
    "        if isinstance(obj, Not):\n",
    "            return sql.not_(self.convert(obj['data']))\n",
    "        return obj"
   ]
  },
  {
   "cell_type": "code",
   "execution_count": null,
   "metadata": {},
   "outputs": [],
   "source": [
    "metadata = sqlalchemy.MetaData()\n",
    "table = sqlalchemy.Table('mytable', metadata,\n",
    "    sqlalchemy.Column('a', sqlalchemy.Integer),\n",
    "    sqlalchemy.Column('b', sqlalchemy.Integer),\n",
    "    sqlalchemy.Column('c', sqlalchemy.Integer))\n",
    "converter = SQLAlchemyConverter({Column(colname): sqlcol for colname, sqlcol in table.columns.items()})\n",
    "\n",
    "print(str(sql.select(columns=table.columns, whereclause=converter.convert(obj))))"
   ]
  },
  {
   "cell_type": "code",
   "execution_count": null,
   "metadata": {},
   "outputs": [],
   "source": []
  }
 ],
 "metadata": {
  "kernelspec": {
   "display_name": "Python 3",
   "language": "python",
   "name": "python3"
  },
  "language_info": {
   "codemirror_mode": {
    "name": "ipython",
    "version": 3
   },
   "file_extension": ".py",
   "mimetype": "text/x-python",
   "name": "python",
   "nbconvert_exporter": "python",
   "pygments_lexer": "ipython3",
   "version": "3.6.1"
  }
 },
 "nbformat": 4,
 "nbformat_minor": 2
}
