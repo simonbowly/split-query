{
 "cells": [
  {
   "cell_type": "code",
   "execution_count": null,
   "metadata": {},
   "outputs": [],
   "source": [
    "import itertools\n",
    "\n",
    "from datetime import datetime, timezone\n",
    "import numpy as np\n",
    "import pandas as pd\n",
    "\n",
    "from IPython.display import display_html\n",
    "\n",
    "from engine import query_df\n",
    "from split_query.expressions import Attribute, math_repr\n",
    "from interface import DataSet"
   ]
  },
  {
   "cell_type": "code",
   "execution_count": null,
   "metadata": {},
   "outputs": [],
   "source": [
    "class StaticDataFrameBackend(object):\n",
    "\n",
    "    def __init__(self, df):\n",
    "        self.df = df\n",
    "\n",
    "    def query(self, expr):\n",
    "        return query_df(self.df, expr)\n",
    "\n",
    "    def estimate_count(self, expr):\n",
    "        ''' Cheating here: the idea is to have a custom estimate based on the\n",
    "        provided expression (e.g. from known properties of time series data). '''\n",
    "        return query_df(self.df, expr).shape[0]\n",
    "\n",
    "# Stand in for a backend function: runs queries on a grid.\n",
    "backend = StaticDataFrameBackend(pd.DataFrame(\n",
    "    columns=['x', 'y'],\n",
    "    data=list(itertools.product(range(10), range(10)))))\n",
    "\n",
    "# Interface object: filters like a dataframe.\n",
    "attributes = [Attribute('x'), Attribute('y')]\n",
    "dataset = DataSet('My dataset', attributes, backend)\n",
    "\n",
    "# Querying returns a new object\n",
    "filtered = dataset[dataset.x < 3][(dataset.y < 2) | (dataset.y >= 8)]\n",
    "assert dataset.expr != filtered.expr"
   ]
  },
  {
   "cell_type": "code",
   "execution_count": null,
   "metadata": {
    "scrolled": false
   },
   "outputs": [],
   "source": [
    "# get() method retrieves the actual data. This returns a dataframe which\n",
    "# can immediately be operated on. Alternative is to run get() automagically\n",
    "# when a function is called and apply the given function to the resulting\n",
    "# dataframe. But that is probably a bad idea where large remote datasets are\n",
    "# concerned.\n",
    "display_html(dataset)\n",
    "dataset.get().sum()"
   ]
  },
  {
   "cell_type": "code",
   "execution_count": null,
   "metadata": {},
   "outputs": [],
   "source": [
    "display_html(filtered)\n",
    "filtered.get().sum()"
   ]
  },
  {
   "cell_type": "code",
   "execution_count": null,
   "metadata": {},
   "outputs": [],
   "source": [
    "display_html(filtered[filtered.x > 5])\n",
    "filtered[filtered.x > 5].get()"
   ]
  },
  {
   "cell_type": "code",
   "execution_count": null,
   "metadata": {},
   "outputs": [],
   "source": [
    "attributes = [Attribute(n) for n in ['x', 'dt', 's']]\n",
    "dataset = DataSet('My dataset', attributes, None)"
   ]
  },
  {
   "cell_type": "code",
   "execution_count": null,
   "metadata": {},
   "outputs": [],
   "source": [
    "filtered = dataset[\n",
    "    (dataset.dt > datetime(2017, 1, 1, 5, 0, 0, 0, timezone.utc)) &\n",
    "    (dataset.dt < datetime(2017, 1, 1, 6, 0, 0, 0, timezone.utc))]\n",
    "filtered = filtered[filtered.s.isin(['a', 'b', 'c'])]\n",
    "filtered"
   ]
  },
  {
   "cell_type": "code",
   "execution_count": null,
   "metadata": {},
   "outputs": [],
   "source": []
  }
 ],
 "metadata": {
  "kernelspec": {
   "display_name": "Python 3",
   "language": "python",
   "name": "python3"
  },
  "language_info": {
   "codemirror_mode": {
    "name": "ipython",
    "version": 3
   },
   "file_extension": ".py",
   "mimetype": "text/x-python",
   "name": "python",
   "nbconvert_exporter": "python",
   "pygments_lexer": "ipython3",
   "version": "3.6.3"
  }
 },
 "nbformat": 4,
 "nbformat_minor": 2
}
