{
 "cells": [
  {
   "cell_type": "code",
   "execution_count": null,
   "metadata": {},
   "outputs": [],
   "source": [
    "import functools\n",
    "from datetime import datetime\n",
    "\n",
    "import pandas as pd\n",
    "import sodapy\n",
    "from dateutil.parser import parse as parse_dt\n",
    "\n",
    "from split_query.expressions import Attribute, Ge, Le, Gt, Lt, And, Or, Eq\n",
    "from split_query.simplify import simplify_tree\n",
    "from split_query.truth_table import expand_dnf\n",
    "from split_query.domain import simplify_domain\n",
    "from interface import DataSet\n",
    "from engine import map_query_df\n",
    "from converters import convert_expression, soql, in_to_or, map_to_ids"
   ]
  },
  {
   "cell_type": "code",
   "execution_count": null,
   "metadata": {},
   "outputs": [],
   "source": [
    "def _map_to_year_mdate(obj):\n",
    "    ''' Should generalise map_to_ids to do this: generally take a function or\n",
    "    map which converts values for a particular attribute. '''\n",
    "    if isinstance(obj, Ge) and obj.attribute == Attribute('datetime'):\n",
    "        return Or([\n",
    "            # And([Eq(Attribute('year'), obj.value.year), Ge(Attribute('mdate'), obj.value.month)]),\n",
    "            Ge(Attribute('year'), obj.value.year)])\n",
    "    if isinstance(obj, Le) and obj.attribute == Attribute('datetime'):\n",
    "        return Or([\n",
    "            # And([Eq(Attribute('year'), obj.value.year), Le(Attribute('mdate'), obj.value.month)]),\n",
    "            Le(Attribute('year'), obj.value.year)])\n",
    "    return obj\n",
    "\n",
    "def to_soql_where(expression):\n",
    "    expression = convert_expression(expression, hook=_map_to_year_mdate)\n",
    "    attribute_map = {\n",
    "        Attribute('sensor'): (Attribute('sensor_id'), {\n",
    "            'bourke': 27, 'grattan': 48})}\n",
    "    expression = convert_expression(expression, hook=functools.partial(\n",
    "        map_to_ids, attribute_map=attribute_map))\n",
    "    expression = convert_expression(expression, hook=in_to_or)\n",
    "    expression = convert_expression(expression, hook=soql)\n",
    "    return expression\n",
    "\n",
    "def parse_remote(entry):\n",
    "    return {\n",
    "        'datetime': parse_dt(entry['daet_time']),\n",
    "        'hourly_count': int(entry['qv_market_peel_st']),\n",
    "        'sensor_id': int(entry['sensor_id'])}\n",
    "\n",
    "class Remote(object):\n",
    "\n",
    "    def __init__(self):\n",
    "        self.api = sodapy.Socrata('data.melbourne.vic.gov.au', app_token=None)\n",
    "        self.page = 10000\n",
    "\n",
    "    def paged_query(self, expression):\n",
    "        where = to_soql_where(expression)\n",
    "        offset = 0\n",
    "        while True:\n",
    "            part = self.api.get('cb85-mn2u', where=where, limit=self.page, offset=offset)\n",
    "            for entry in part:\n",
    "                yield entry\n",
    "            if len(part) < self.page:\n",
    "                break\n",
    "            offset += self.page\n",
    "\n",
    "    def query(self, expression):\n",
    "        return pd.DataFrame(list(map(parse_remote, self.paged_query(expression))))\n",
    "\n",
    "class Backend(object):\n",
    "\n",
    "    def __init__(self, remote):\n",
    "        self.cache = dict()\n",
    "        self.remote = remote\n",
    "\n",
    "    def query(self, expression):\n",
    "        if expression in self.cache:\n",
    "            result = self.cache[expression]\n",
    "            print('Retrieved from cache: {}'.format(result.shape[0]))\n",
    "            return result[map_query_df(result, expression)]\n",
    "        result = self.remote.query(expression)\n",
    "        self.cache[expression] = result\n",
    "        print('Retrieved from remote: {}'.format(result.shape[0]))\n",
    "        return result[map_query_df(result, expression)]\n",
    "\n",
    "\n",
    "attributes = [Attribute(n) for n in ['datetime', 'hourly_count', 'sensor_id']]\n",
    "dataset = DataSet('Pedestrians', attributes, Backend(Remote()))"
   ]
  },
  {
   "cell_type": "code",
   "execution_count": null,
   "metadata": {},
   "outputs": [],
   "source": [
    "filtered = dataset[\n",
    "    dataset.datetime.between(datetime(2016, 6, 1), datetime(2016, 8, 1))][\n",
    "    dataset.sensor_id.isin([27, 28])]\n",
    "filtered.get().head()"
   ]
  },
  {
   "cell_type": "code",
   "execution_count": null,
   "metadata": {},
   "outputs": [],
   "source": [
    "filtered.get().head()"
   ]
  },
  {
   "cell_type": "code",
   "execution_count": null,
   "metadata": {},
   "outputs": [],
   "source": [
    "filtered = dataset[\n",
    "    dataset.datetime.between(datetime(2016, 6, 1), datetime(2016, 8, 1))][\n",
    "    dataset.sensor_id.isin([27])]\n",
    "filtered.get().head()"
   ]
  },
  {
   "cell_type": "code",
   "execution_count": null,
   "metadata": {},
   "outputs": [],
   "source": [
    "filtered = dataset[\n",
    "    dataset.datetime.between(datetime(2016, 6, 1), datetime(2016, 8, 1))][\n",
    "    dataset.sensor_id.isin([27, 28, 29])]\n",
    "filtered.get().head()"
   ]
  },
  {
   "cell_type": "code",
   "execution_count": null,
   "metadata": {},
   "outputs": [],
   "source": []
  }
 ],
 "metadata": {
  "kernelspec": {
   "display_name": "Python 3",
   "language": "python",
   "name": "python3"
  },
  "language_info": {
   "codemirror_mode": {
    "name": "ipython",
    "version": 3
   },
   "file_extension": ".py",
   "mimetype": "text/x-python",
   "name": "python",
   "nbconvert_exporter": "python",
   "pygments_lexer": "ipython3",
   "version": "3.6.3"
  }
 },
 "nbformat": 4,
 "nbformat_minor": 2
}
