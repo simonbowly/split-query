{
 "cells": [
  {
   "cell_type": "code",
   "execution_count": null,
   "metadata": {},
   "outputs": [],
   "source": [
    "import functools\n",
    "from datetime import datetime\n",
    "\n",
    "from split_query.expressions import Attribute, Ge, Le, Gt, Lt, And, Or, Eq\n",
    "from split_query.simplify import simplify_tree\n",
    "from split_query.truth_table import expand_dnf\n",
    "from split_query.domain import simplify_domain\n",
    "from interface import DataSet\n",
    "from converters import convert_expression, soql, in_to_or, map_to_ids"
   ]
  },
  {
   "cell_type": "code",
   "execution_count": null,
   "metadata": {},
   "outputs": [],
   "source": [
    "dataset = DataSet('Pedestrians', [Attribute(n) for n in ['datetime', 'hourly_count', 'sensor']], None)"
   ]
  },
  {
   "cell_type": "code",
   "execution_count": null,
   "metadata": {},
   "outputs": [],
   "source": [
    "filtered = dataset[\n",
    "    dataset.datetime.between(datetime(2016, 6, 1), datetime(2017, 7, 1))][\n",
    "    dataset.sensor.isin(['bourke', 'grattan'])]"
   ]
  },
  {
   "cell_type": "code",
   "execution_count": null,
   "metadata": {},
   "outputs": [],
   "source": [
    "def map_to_year(obj):\n",
    "    ''' Should generalise map_to_ids to do this: generally take a function or\n",
    "    map which converts values for a particular attribute. '''\n",
    "    if isinstance(obj, Ge) and obj.attribute == Attribute('datetime'):\n",
    "        return Or([\n",
    "            And([Eq(Attribute('year'), obj.value.year), Ge(Attribute('month'), obj.value.month)]),\n",
    "            Gt(Attribute('year'), obj.value.year)])\n",
    "    if isinstance(obj, Le) and obj.attribute == Attribute('datetime'):\n",
    "        return Or([\n",
    "            And([Eq(Attribute('year'), obj.value.year), Le(Attribute('month'), obj.value.month)]),\n",
    "            Lt(Attribute('year'), obj.value.year)])\n",
    "    return obj\n",
    "\n",
    "expression = filtered.expr\n",
    "expression = convert_expression(expression, hook=map_to_year)\n",
    "attribute_map = {\n",
    "    Attribute('sensor'): (Attribute('sensor_id'), {\n",
    "        'bourke': 27, 'grattan': 48})}\n",
    "expression = convert_expression(expression, hook=functools.partial(\n",
    "    map_to_ids, attribute_map=attribute_map))\n",
    "expression = convert_expression(expression, hook=in_to_or)\n",
    "expression = convert_expression(expression, hook=soql)\n",
    "expression"
   ]
  },
  {
   "cell_type": "code",
   "execution_count": null,
   "metadata": {},
   "outputs": [],
   "source": []
  }
 ],
 "metadata": {
  "kernelspec": {
   "display_name": "Python 3",
   "language": "python",
   "name": "python3"
  },
  "language_info": {
   "codemirror_mode": {
    "name": "ipython",
    "version": 3
   },
   "file_extension": ".py",
   "mimetype": "text/x-python",
   "name": "python",
   "nbconvert_exporter": "python",
   "pygments_lexer": "ipython3",
   "version": "3.6.3"
  }
 },
 "nbformat": 4,
 "nbformat_minor": 2
}
