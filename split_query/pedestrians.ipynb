{
 "cells": [
  {
   "cell_type": "code",
   "execution_count": null,
   "metadata": {},
   "outputs": [],
   "source": [
    "import logging\n",
    "logging.basicConfig(level=logging.INFO)\n",
    "import functools\n",
    "from datetime import datetime, timedelta\n",
    "\n",
    "import requests\n",
    "import pandas as pd\n",
    "from dateutil.parser import parse as parse_dt\n",
    "\n",
    "from split_query.expressions import Attribute, Ge, Le, Gt, Lt, And, Or, Eq, In, Not, math_repr\n",
    "from interface import DataSet\n",
    "from split_query.converters import convert_expression, soql, in_to_or, map_to_ids\n",
    "from cache import CachingBackend, simplify"
   ]
  },
  {
   "cell_type": "code",
   "execution_count": null,
   "metadata": {},
   "outputs": [],
   "source": [
    "class SoQLError(Exception):\n",
    "    pass\n",
    "\n",
    "def soda_query(domain, endpoint, **params):\n",
    "    # Formatting of domain, endpoint and parameters\n",
    "    url = 'https://{0}/resource/{1}.json'.format(domain, endpoint)\n",
    "    params = {'$' + key: value for key, value in params.items()}\n",
    "    response = requests.get(url=url, params=params)\n",
    "    data = response.json()\n",
    "    if response.status_code == 200:\n",
    "        return data\n",
    "    else:\n",
    "        if 'message' in data:\n",
    "            raise SoQLError(data['message'])\n",
    "        elif 'data' in data:\n",
    "            raise SoQLError('SoQL query error: {query}'.format(**data['data']))\n",
    "        elif 'code' in data:\n",
    "            raise SoQLError('SoQL error code: {code}'.format(**data))\n",
    "        else:\n",
    "            raise SoQLError('SoQL unknown error: {}'.format(data))"
   ]
  },
  {
   "cell_type": "code",
   "execution_count": null,
   "metadata": {},
   "outputs": [],
   "source": [
    "def _map_to_year(obj):\n",
    "    ''' Map a datetime query to numeric year only. '''\n",
    "    if (isinstance(obj, Ge) or isinstance(obj, Gt)) and obj.attribute == Attribute('datetime'):\n",
    "        return Ge(Attribute('year'), obj.value.year)\n",
    "    if (isinstance(obj, Le) or isinstance(obj, Lt)) and obj.attribute == Attribute('datetime'):\n",
    "        return Le(Attribute('year'), obj.value.year)\n",
    "    return obj\n",
    "\n",
    "def _widen_to_year(obj):\n",
    "    if isinstance(obj, Ge) and obj.attribute == Attribute('datetime'):\n",
    "        return Ge(Attribute('datetime'), datetime(obj.value.year, 1, 1))\n",
    "    if isinstance(obj, Le) and obj.attribute == Attribute('datetime'):\n",
    "        return Lt(Attribute('datetime'), datetime(obj.value.year + 1, 1, 1))\n",
    "    return obj\n",
    "\n",
    "def get_actual_query(expression):\n",
    "    return convert_expression(expression, hook=_widen_to_year)\n",
    "\n",
    "def get_soql_where(expression):\n",
    "    expression = convert_expression(expression, hook=_map_to_year)\n",
    "    expression = simplify(expression)\n",
    "    expression = convert_expression(expression, hook=in_to_or)\n",
    "    return convert_expression(expression, hook=soql)\n",
    "\n",
    "def parse_remote(entry):\n",
    "    return {\n",
    "        'datetime': parse_dt(entry['daet_time']),\n",
    "        'hourly_count': int(entry['qv_market_peel_st']),\n",
    "        'sensor_id': int(entry['sensor_id'])}\n",
    "\n",
    "class PedestrianRemote(object):\n",
    "\n",
    "    def __init__(self):\n",
    "        self.get = functools.partial(soda_query, 'data.melbourne.vic.gov.au', 'cb85-mn2u')\n",
    "        self.page = 50000\n",
    "\n",
    "    def paged_query(self, where):\n",
    "        offset = 0\n",
    "        while True:\n",
    "            part = self.get(where=where, limit=self.page, offset=offset)\n",
    "            for entry in part:\n",
    "                yield entry\n",
    "            if len(part) < self.page:\n",
    "                break\n",
    "            offset += self.page\n",
    "\n",
    "    def query(self, expression):\n",
    "        actual = get_actual_query(expression)\n",
    "        where = get_soql_where(expression)\n",
    "        logging.info('REMOTE: ' + where)\n",
    "        result = pd.DataFrame(list(map(parse_remote, self.paged_query(where))))\n",
    "        return actual, result\n",
    "\n",
    "    def mock_data(self):\n",
    "        return pd.DataFrame(dict(\n",
    "            datetime=[datetime(2017, 3, 2) + timedelta(hours=1) * (i + 3) for i in range(4)],\n",
    "            hourly_count=[244, 543, 322, 100],\n",
    "            sensor_id=[27, 27, 27, 27]))\n",
    "\n",
    "    def estimate_count(self, expr):\n",
    "        ''' This appears to be called twice on repr?? '''\n",
    "        expr = simplify(expr)\n",
    "        if isinstance(expr, And):\n",
    "            lower = next(cl for cl in expr.clauses if isinstance(cl, Ge) or isinstance(cl, Gt)).value\n",
    "            upper = next(cl for cl in expr.clauses if isinstance(cl, Le) or isinstance(cl, Lt)).value\n",
    "            count = len(next(cl for cl in expr.clauses if isinstance(cl, In)).valueset)\n",
    "        return int((upper - lower).total_seconds() // 3600) * count"
   ]
  },
  {
   "cell_type": "code",
   "execution_count": null,
   "metadata": {},
   "outputs": [],
   "source": [
    "backend = CachingBackend(PedestrianRemote())\n",
    "attributes = [Attribute(n) for n in ['datetime', 'hourly_count', 'sensor_id']]\n",
    "desc = 'Hourly pedestrian counts from various intersections in Melbourne.'\n",
    "dataset = DataSet('Pedestrians', attributes, backend, description=desc)\n",
    "\n",
    "def show_result(filtered):\n",
    "    g = filtered.get().groupby('sensor_id')\n",
    "    return pd.DataFrame(dict(\n",
    "        min_dt=g.datetime.min(),\n",
    "        max_dt=g.datetime.max(),\n",
    "        count=g.datetime.count()))[['min_dt', 'max_dt', 'count']]"
   ]
  },
  {
   "cell_type": "code",
   "execution_count": null,
   "metadata": {},
   "outputs": [],
   "source": [
    "dataset"
   ]
  },
  {
   "cell_type": "code",
   "execution_count": null,
   "metadata": {},
   "outputs": [],
   "source": [
    "filtered = dataset[\n",
    "    dataset.datetime.between(datetime(2015, 5, 3), datetime(2016, 2, 3)) &\n",
    "    dataset['sensor_id'].isin([27, 28])]\n",
    "filtered"
   ]
  },
  {
   "cell_type": "code",
   "execution_count": null,
   "metadata": {},
   "outputs": [],
   "source": [
    "print('Records: {}'.format(filtered.get().shape[0]))\n",
    "filtered.get().head()"
   ]
  },
  {
   "cell_type": "code",
   "execution_count": null,
   "metadata": {},
   "outputs": [],
   "source": [
    "show_result(dataset[\n",
    "    dataset.datetime.between(datetime(2015, 5, 3), datetime(2015, 10, 3)) &\n",
    "    dataset.sensor_id.isin([27])])"
   ]
  },
  {
   "cell_type": "code",
   "execution_count": null,
   "metadata": {},
   "outputs": [],
   "source": [
    "show_result(dataset[\n",
    "    dataset.datetime.between(datetime(2015, 5, 3), datetime(2016, 2, 3)) &\n",
    "    dataset.sensor_id.isin([27, 28])])"
   ]
  },
  {
   "cell_type": "code",
   "execution_count": null,
   "metadata": {},
   "outputs": [],
   "source": [
    "show_result(dataset[\n",
    "    dataset.datetime.between(datetime(2015, 2, 3), datetime(2015, 10, 7)) &\n",
    "    dataset.sensor_id.isin([27, 28])])"
   ]
  },
  {
   "cell_type": "code",
   "execution_count": null,
   "metadata": {},
   "outputs": [],
   "source": [
    "show_result(dataset[\n",
    "    dataset.datetime.between(datetime(2015, 2, 3), datetime(2015, 10, 7)) &\n",
    "    dataset.sensor_id.isin([27, 28, 29])])"
   ]
  },
  {
   "cell_type": "code",
   "execution_count": null,
   "metadata": {},
   "outputs": [],
   "source": [
    "show_result(dataset[\n",
    "    dataset.datetime.between(datetime(2015, 2, 3), datetime(2016, 10, 7)) &\n",
    "    dataset.sensor_id.isin([27, 28, 29])])"
   ]
  },
  {
   "cell_type": "code",
   "execution_count": null,
   "metadata": {},
   "outputs": [],
   "source": [
    "show_result(dataset[\n",
    "    dataset.datetime.between(datetime(2016, 2, 3), datetime(2016, 10, 7)) &\n",
    "    dataset.sensor_id.isin([27, 28, 29])])"
   ]
  },
  {
   "cell_type": "code",
   "execution_count": null,
   "metadata": {},
   "outputs": [],
   "source": [
    "%matplotlib inline\n",
    "import seaborn as sns\n",
    "sns.set(rc={'figure.figsize': (15, 8)})"
   ]
  },
  {
   "cell_type": "code",
   "execution_count": null,
   "metadata": {},
   "outputs": [],
   "source": [
    "dataset[\n",
    "    dataset.datetime.between(datetime(2016, 11, 1), datetime(2016, 11, 15)) &\n",
    "    dataset.sensor_id.isin([28, 29])].get().set_index(['datetime', 'sensor_id']).unstack().plot();"
   ]
  }
 ],
 "metadata": {
  "kernelspec": {
   "display_name": "Python 3",
   "language": "python",
   "name": "python3"
  },
  "language_info": {
   "codemirror_mode": {
    "name": "ipython",
    "version": 3
   },
   "file_extension": ".py",
   "mimetype": "text/x-python",
   "name": "python",
   "nbconvert_exporter": "python",
   "pygments_lexer": "ipython3",
   "version": "3.6.3"
  }
 },
 "nbformat": 4,
 "nbformat_minor": 2
}
