{
 "cells": [
  {
   "cell_type": "markdown",
   "metadata": {},
   "source": [
    "# Test cases\n",
    "\n",
    "Cases below are working as designed.\n",
    "Better avenue for test cases: rather than an arbitrary tree, use a sequence of intervals/rectangles/boxes added and subtracted.\n",
    "Test these on gridded data to validate the simplifier and data filtering."
   ]
  },
  {
   "cell_type": "code",
   "execution_count": null,
   "metadata": {},
   "outputs": [],
   "source": [
    "from split_query.simplify import simplify_tree\n",
    "from split_query.domain import simplify_domain\n",
    "from split_query.expressions import And, Or, Not, Eq, Le, Lt, Ge, Gt, Float\n",
    "from split_query.truth_table import expand_dnf\n",
    "\n",
    "def pprint(result):\n",
    "    print(result.expr)\n",
    "    for cl in result.clauses:\n",
    "        print(cl)"
   ]
  },
  {
   "cell_type": "code",
   "execution_count": null,
   "metadata": {},
   "outputs": [],
   "source": [
    "def showoff(expression):\n",
    "    pprint(expression)\n",
    "    print()\n",
    "    result = simplify_tree(simplify_domain(expand_dnf(simplify_domain(simplify_tree(expression)))))\n",
    "    pprint(result)"
   ]
  },
  {
   "cell_type": "code",
   "execution_count": null,
   "metadata": {},
   "outputs": [],
   "source": [
    "x, y = (Float(name) for name in 'xy')\n",
    "showoff(And([\n",
    "    And([Ge(x, 0), Le(x, 2), Ge(y, 0), Le(y, 2)]),\n",
    "    Not(And([Ge(x, 0), Le(x, 1), Ge(y, 0), Le(y, 1)])),\n",
    "]))"
   ]
  },
  {
   "cell_type": "code",
   "execution_count": null,
   "metadata": {},
   "outputs": [],
   "source": [
    "showoff(And([Ge(x, 0), Le(x, 2), Ge(y, 0), Le(y, 2)]))"
   ]
  },
  {
   "cell_type": "code",
   "execution_count": null,
   "metadata": {},
   "outputs": [],
   "source": [
    "showoff(And([\n",
    "    And([Ge(x, 0), Le(x, 2), Ge(y, 0), Le(y, 2)]),\n",
    "    Not(And([Ge(x, -1), Le(x, 1), Ge(y, -1), Le(y, 1)])),\n",
    "]))"
   ]
  },
  {
   "cell_type": "code",
   "execution_count": null,
   "metadata": {},
   "outputs": [],
   "source": []
  }
 ],
 "metadata": {
  "kernelspec": {
   "display_name": "Python 3",
   "language": "python",
   "name": "python3"
  },
  "language_info": {
   "codemirror_mode": {
    "name": "ipython",
    "version": 3
   },
   "file_extension": ".py",
   "mimetype": "text/x-python",
   "name": "python",
   "nbconvert_exporter": "python",
   "pygments_lexer": "ipython3",
   "version": "3.6.3"
  }
 },
 "nbformat": 4,
 "nbformat_minor": 2
}
