{
 "cells": [
  {
   "cell_type": "markdown",
   "metadata": {},
   "source": [
    "Shows a significant performance difference between in-memory and persistent caches, but profiling shows that the time is actually absorbed by expanding expressions???\n",
    "Must be related to ordering..."
   ]
  },
  {
   "cell_type": "code",
   "execution_count": null,
   "metadata": {},
   "outputs": [],
   "source": [
    "from datetime import datetime\n",
    "import json\n",
    "import logging\n",
    "logging.basicConfig(level=logging.INFO)\n",
    "\n",
    "import pandas as pd\n",
    "\n",
    "from split_query.core import default\n",
    "from split_query.decorators import (\n",
    "    dataset, cache_persistent, cache_inmemory,\n",
    "    remote_parameters, range_parameter, tag_parameter)\n",
    "\n",
    "\n",
    "@dataset(\n",
    "    name='Mock',\n",
    "    attributes=['datetime', 'hourly_count', 'sensor'])\n",
    "# @cache_inmemory()\n",
    "@cache_persistent('benchmark')\n",
    "@remote_parameters(\n",
    "    range_parameter(\n",
    "        'datetime', key_lower='from_dt', key_upper='to_dt',\n",
    "        round_down=lambda dt: datetime(dt.year, 1, 1, 0, 0, 0),\n",
    "        offset=lambda dt: datetime(dt.year + 1, 1, 1, 0, 0, 0)),\n",
    "    tag_parameter('sensor', single=True))\n",
    "class Dataset(object):\n",
    "    ''' This docstring will be displayed in the dataset object repr. '''\n",
    "\n",
    "    def get(self, from_dt, to_dt, sensor):\n",
    "        assert from_dt == datetime(from_dt.year, 1, 1, 0, 0, 0)\n",
    "        assert to_dt == datetime(from_dt.year + 1, 1, 1, 0, 0, 0)\n",
    "        where = '(sensor = {}) and (year = {})'.format(sensor, from_dt.year)\n",
    "        logging.info('QUERY: {}'.format(where))\n",
    "        return pd.DataFrame(dict(\n",
    "            datetime=pd.date_range(from_dt, to_dt),\n",
    "            sensor=sensor, hourly_count=1))"
   ]
  },
  {
   "cell_type": "code",
   "execution_count": null,
   "metadata": {
    "scrolled": true
   },
   "outputs": [],
   "source": [
    "dataset = Dataset()\n",
    "dataset.clear_cache()\n",
    "\n",
    "for start_year in [2017, 2015, 2014, 2013, 2012]:\n",
    "    logging.info('START {}'.format(start_year))\n",
    "    logging.info('RESULT\\n' + repr(dataset[\n",
    "        dataset.datetime.between(datetime(start_year, 2, 3), datetime(2017, 10, 3)) &\n",
    "        dataset.sensor.isin(['Town Hall (West)', 'Southbank'])].get(\n",
    "        ).groupby('sensor').datetime.agg(['min', 'max', 'count'])))"
   ]
  },
  {
   "cell_type": "code",
   "execution_count": null,
   "metadata": {},
   "outputs": [],
   "source": [
    "def run(start_year):\n",
    "    ''' This is a good follow up query to test performance once a complicated\n",
    "    cache structure has been built up. Make sure caching of algorithm results\n",
    "    is disabled. '''\n",
    "    return dataset[\n",
    "        dataset.datetime.between(datetime(start_year, 2, 3), datetime(2017, 10, 3)) &\n",
    "        dataset.sensor.isin(['Town Hall (West)', 'Southbank'])].get(\n",
    "        ).groupby('sensor').datetime.agg(['min', 'max', 'count'])"
   ]
  },
  {
   "cell_type": "code",
   "execution_count": null,
   "metadata": {},
   "outputs": [],
   "source": [
    "run(2012)\n",
    "with open('path_persistent.json', 'w') as outfile:\n",
    "    json.dump(dataset.backend.tracking, outfile, default=default)"
   ]
  },
  {
   "cell_type": "code",
   "execution_count": null,
   "metadata": {},
   "outputs": [],
   "source": []
  }
 ],
 "metadata": {
  "kernelspec": {
   "display_name": "Python 3",
   "language": "python",
   "name": "python3"
  },
  "language_info": {
   "codemirror_mode": {
    "name": "ipython",
    "version": 3
   },
   "file_extension": ".py",
   "mimetype": "text/x-python",
   "name": "python",
   "nbconvert_exporter": "python",
   "pygments_lexer": "ipython3",
   "version": "3.6.3"
  }
 },
 "nbformat": 4,
 "nbformat_minor": 2
}
