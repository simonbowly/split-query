{
 "cells": [
  {
   "cell_type": "code",
   "execution_count": null,
   "metadata": {},
   "outputs": [],
   "source": [
    "import json\n",
    "from datetime import datetime\n",
    "from split_query.core import *\n",
    "from split_query.remote import soql_hook, traverse_expression\n",
    "from split_query.core.algorithms import simplify_flat_and, _normalise_input\n",
    "from split_query.engine import query_df\n",
    "from split_query.core.expand import expand_dnf_simplify, expand_dnf\n",
    "import pandas as pd\n",
    "from functools import lru_cache"
   ]
  },
  {
   "cell_type": "code",
   "execution_count": null,
   "metadata": {},
   "outputs": [],
   "source": [
    "with open('simplify_calls.json') as infile:\n",
    "    data = json.load(infile, object_hook=object_hook)"
   ]
  },
  {
   "cell_type": "code",
   "execution_count": null,
   "metadata": {},
   "outputs": [],
   "source": [
    "df1 = pd.DataFrame(dict(\n",
    "    datetime=pd.date_range(datetime(2012, 1, 1), datetime(2018, 1, 1)),\n",
    "    sensor='Town Hall (West)', hourly_count=1))\n",
    "df2 = pd.DataFrame(dict(\n",
    "    datetime=pd.date_range(datetime(2012, 1, 1), datetime(2018, 1, 1)),\n",
    "    sensor='Southbank', hourly_count=2))\n",
    "df3 = pd.DataFrame(dict(\n",
    "    datetime=pd.date_range(datetime(2012, 1, 1), datetime(2018, 1, 1)),\n",
    "    sensor='Bourke St', hourly_count=3))\n",
    "df = pd.concat([df1, df2, df3])"
   ]
  },
  {
   "cell_type": "code",
   "execution_count": null,
   "metadata": {},
   "outputs": [],
   "source": [
    "def equivalent(e1, e2):\n",
    "    try:\n",
    "        return (query_df(df, e1) == query_df(df, e2)).all().all()\n",
    "    except ValueError:\n",
    "        return False"
   ]
  },
  {
   "cell_type": "code",
   "execution_count": null,
   "metadata": {},
   "outputs": [],
   "source": [
    "errors = [entry for entry in data if not equivalent(entry['expression'], entry['simplified'])]"
   ]
  },
  {
   "cell_type": "code",
   "execution_count": null,
   "metadata": {},
   "outputs": [],
   "source": [
    "for error in errors:\n",
    "    print('Initial               ', equivalent(error['expression'], error['simplified']))\n",
    "    print('expand_dnf            ', equivalent(error['expression'], expand_dnf(error['expression'])))\n",
    "    print('expand_dnf_simplify   ', equivalent(error['expression'], expand_dnf_simplify(error['expression'])))\n",
    "    print()"
   ]
  },
  {
   "cell_type": "code",
   "execution_count": null,
   "metadata": {},
   "outputs": [],
   "source": [
    "results = []\n",
    "for error in errors:\n",
    "    expression = error['expression']\n",
    "    expanded = expand_dnf(expression)\n",
    "    clauses = list(expanded.clauses)\n",
    "    new_clauses = [simplify_flat_and(cl) for cl in clauses]\n",
    "    bad_clauses = [\n",
    "        (cl, new_cl) for cl, new_cl in zip(clauses, new_clauses)\n",
    "        if not equivalent(cl, new_cl)]\n",
    "    results.extend(bad_clauses)"
   ]
  },
  {
   "cell_type": "code",
   "execution_count": null,
   "metadata": {},
   "outputs": [],
   "source": [
    "sorted(\n",
    "    [cl for cl in results[0][0].clauses],\n",
    "    key=lambda x: x.__class__.__name__)"
   ]
  },
  {
   "cell_type": "code",
   "execution_count": null,
   "metadata": {},
   "outputs": [],
   "source": [
    "dt = Attribute('dt')\n",
    "sen = Attribute('sensor')\n",
    "\n",
    "[Eq(ATTR(sensor),'Southbank'),\n",
    " Ge(ATTR(datetime),datetime.datetime(2013, 2, 3, 0, 0)),\n",
    " Ge(ATTR(datetime),datetime.datetime(2014, 1, 1, 0, 0)),\n",
    " In(ATTR(sensor),frozenset({'Southbank'})),\n",
    " Le(ATTR(datetime),datetime.datetime(2015, 1, 1, 0, 0)),\n",
    " Lt(ATTR(datetime),datetime.datetime(2016, 1, 1, 0, 0)),\n",
    " Lt(ATTR(datetime),datetime.datetime(2015, 1, 1, 0, 0)),\n",
    " Not(Lt(ATTR(datetime),datetime.datetime(2014, 1, 1, 0, 0))),\n",
    " Not(Eq(ATTR(datetime),datetime.datetime(2015, 1, 1, 0, 0))),\n",
    " Not(Gt(ATTR(datetime),datetime.datetime(2015, 1, 1, 0, 0))),\n",
    " Not(Eq(ATTR(sensor),'Town Hall (West)'))]"
   ]
  }
 ],
 "metadata": {
  "kernelspec": {
   "display_name": "Python 3",
   "language": "python",
   "name": "python3"
  },
  "language_info": {
   "codemirror_mode": {
    "name": "ipython",
    "version": 3
   },
   "file_extension": ".py",
   "mimetype": "text/x-python",
   "name": "python",
   "nbconvert_exporter": "python",
   "pygments_lexer": "ipython3",
   "version": "3.6.3"
  }
 },
 "nbformat": 4,
 "nbformat_minor": 2
}
