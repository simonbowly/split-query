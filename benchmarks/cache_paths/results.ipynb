{
 "cells": [
  {
   "cell_type": "code",
   "execution_count": null,
   "metadata": {},
   "outputs": [],
   "source": [
    "import json\n",
    "%matplotlib inline\n",
    "import matplotlib.pyplot as plt\n",
    "import pandas as pd\n",
    "import numpy as np\n",
    "from split_query.core import object_hook, And\n",
    "from split_query.extract import extract_parameters\n",
    "from split_query.core.expand import get_clauses"
   ]
  },
  {
   "cell_type": "code",
   "execution_count": null,
   "metadata": {},
   "outputs": [],
   "source": [
    "# Simplification timings\n",
    "results = pd.read_csv('benchmarks.csv')\n",
    "grouped = pd.DataFrame(results).drop(columns=['ind']).groupby(['name', 'clauses']).mean()\n",
    "grouped = grouped.apply(np.log)\n",
    "grouped = grouped - grouped.min().min()\n",
    "_, (ax1, ax2) = plt.subplots(1, 2, sharey=True, figsize=(14, 6))\n",
    "grouped.loc['in-memory'].plot(ax=ax1, kind='bar')\n",
    "grouped.loc['persistent'].plot(ax=ax2, kind='bar');"
   ]
  },
  {
   "cell_type": "code",
   "execution_count": null,
   "metadata": {},
   "outputs": [],
   "source": [
    "# Execution path through the cache\n",
    "with open('path_inmemory.json') as infile:\n",
    "    path_inmemory = json.load(infile, object_hook=object_hook)\n",
    "with open('path_persistent.json') as infile:\n",
    "    path_persistent = json.load(infile, object_hook=object_hook)\n",
    "\n",
    "parameters = [\n",
    "    dict(attr='sensor', type='tag', key='sensor', single=True),\n",
    "    dict(attr='datetime', type='range', key_lower='lower', key_upper='upper')]\n",
    "\n",
    "def extract(expression):\n",
    "    res = extract_parameters(expression, parameters)\n",
    "    assert len(res) == 1\n",
    "    return res[0][1]\n",
    "\n",
    "def print_path(path):\n",
    "    for _, current, cached in path:\n",
    "        keys = extract(cached)\n",
    "        print('{:<25}{:<20}{:>3}'.format(\n",
    "            str(keys['lower']), keys['sensor'],\n",
    "            len(get_clauses(And([current, cached])))))\n",
    "\n",
    "print('in-memory')\n",
    "print_path(path_inmemory)\n",
    "print('\\npersistent')\n",
    "print_path(path_persistent)"
   ]
  },
  {
   "cell_type": "code",
   "execution_count": null,
   "metadata": {},
   "outputs": [],
   "source": []
  }
 ],
 "metadata": {
  "kernelspec": {
   "display_name": "Python 3",
   "language": "python",
   "name": "python3"
  },
  "language_info": {
   "codemirror_mode": {
    "name": "ipython",
    "version": 3
   },
   "file_extension": ".py",
   "mimetype": "text/x-python",
   "name": "python",
   "nbconvert_exporter": "python",
   "pygments_lexer": "ipython3",
   "version": "3.6.3"
  }
 },
 "nbformat": 4,
 "nbformat_minor": 2
}
