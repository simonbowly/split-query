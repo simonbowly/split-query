{
 "cells": [
  {
   "cell_type": "code",
   "execution_count": null,
   "metadata": {},
   "outputs": [],
   "source": [
    "import collections\n",
    "from octo_spork.expressions import *\n",
    "from octo_spork.logic import to_cnf, to_dnf\n",
    "from octo_spork.domain import simplify_intervals, simplify_sets, get_attributes"
   ]
  },
  {
   "cell_type": "code",
   "execution_count": null,
   "metadata": {},
   "outputs": [],
   "source": [
    "x1, x2, x3 = [Attribute('x{}'.format(i+1)) for i in range(3)]\n",
    "expression = And([\n",
    "    And([Gt(x1, 1), Lt(x1, 2), Ge(x2, 1)]),\n",
    "    And([Not(Ge(x1, 1.5)), Ge(x2, 1)])])\n",
    "print(nice_repr(expression))"
   ]
  },
  {
   "cell_type": "code",
   "execution_count": null,
   "metadata": {},
   "outputs": [],
   "source": [
    "reduced = to_dnf(expression)\n",
    "print(nice_repr(reduced))"
   ]
  },
  {
   "cell_type": "code",
   "execution_count": null,
   "metadata": {},
   "outputs": [],
   "source": [
    "by_attribute = collections.defaultdict(list)\n",
    "for clause in reduced.clauses:\n",
    "    by_attribute[frozenset(get_attributes(clause))].append(clause)\n",
    "\n",
    "result = to_dnf(And([\n",
    "    simplify_intervals(And(clausegroup))\n",
    "    for clausegroup in by_attribute.values()]))\n",
    "\n",
    "print(nice_repr(result))"
   ]
  },
  {
   "cell_type": "code",
   "execution_count": null,
   "metadata": {},
   "outputs": [],
   "source": []
  }
 ],
 "metadata": {
  "kernelspec": {
   "display_name": "Python 3",
   "language": "python",
   "name": "python3"
  },
  "language_info": {
   "codemirror_mode": {
    "name": "ipython",
    "version": 3
   },
   "file_extension": ".py",
   "mimetype": "text/x-python",
   "name": "python",
   "nbconvert_exporter": "python",
   "pygments_lexer": "ipython3",
   "version": "3.6.3"
  }
 },
 "nbformat": 4,
 "nbformat_minor": 2
}
