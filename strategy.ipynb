{
 "cells": [
  {
   "cell_type": "code",
   "execution_count": null,
   "metadata": {},
   "outputs": [],
   "source": [
    "import collections\n",
    "import itertools\n",
    "from octo_spork.expressions import *\n",
    "from octo_spork.logic import to_cnf, to_dnf\n",
    "from octo_spork.domain import simplify_intervals, simplify_sets, get_attributes"
   ]
  },
  {
   "cell_type": "code",
   "execution_count": null,
   "metadata": {},
   "outputs": [],
   "source": [
    "x1, x2, x3 = [Attribute('x{}'.format(i+1)) for i in range(3)]\n",
    "expression = And([\n",
    "    And([Gt(x1, 1), Lt(x1, 2), Ge(x2, 1)]),\n",
    "    Or([Not(Ge(x1, 1.5)), Lt(x2, 0)])])\n",
    "print(nice_repr(expression))"
   ]
  },
  {
   "cell_type": "code",
   "execution_count": null,
   "metadata": {},
   "outputs": [],
   "source": [
    "reduced = to_dnf(expression)\n",
    "print(nice_repr(reduced))\n",
    "type(reduced)"
   ]
  },
  {
   "cell_type": "code",
   "execution_count": null,
   "metadata": {},
   "outputs": [],
   "source": [
    "expr = list(reduced.clauses)[0]\n",
    "nice_repr(expr)\n",
    "len(expr.clauses)"
   ]
  },
  {
   "cell_type": "code",
   "execution_count": null,
   "metadata": {},
   "outputs": [],
   "source": [
    "def simplify_reduce(expression):\n",
    "    if isinstance(expression, And):\n",
    "        by_attribute = collections.defaultdict(list)\n",
    "        for clause in expression.clauses:\n",
    "            by_attribute[frozenset(get_attributes(clause))].append(clause)\n",
    "        return And([\n",
    "            simplify_intervals(And(clausegroup))\n",
    "            for clausegroup in by_attribute.values()])\n",
    "    return expression"
   ]
  },
  {
   "cell_type": "code",
   "execution_count": null,
   "metadata": {},
   "outputs": [],
   "source": [
    "def simplify(expression, depth=0):\n",
    "    if depth > 10:\n",
    "        return expression\n",
    "    if len(get_attributes(expression)) == 1:\n",
    "        try:\n",
    "            return simplify_intervals(expression)\n",
    "        except:\n",
    "            try:\n",
    "                return simplify_sets(expression)\n",
    "            except:\n",
    "                pass\n",
    "    if isinstance(expression, And):\n",
    "        by_attribute = collections.defaultdict(list)\n",
    "        for clause in expression.clauses:\n",
    "            by_attribute[frozenset(get_attributes(clause))].append(clause)\n",
    "        return And([\n",
    "            simplify(And(clausegroup), depth=depth+1)\n",
    "            for clausegroup in by_attribute.values()])\n",
    "    if isinstance(expression, Or):\n",
    "        by_attribute = collections.defaultdict(list)\n",
    "        for clause in expression.clauses:\n",
    "            by_attribute[frozenset(get_attributes(clause))].append(clause)\n",
    "        return Or([\n",
    "            simplify(Or(clausegroup), depth=depth+1)\n",
    "            for clausegroup in by_attribute.values()])\n",
    "    return expression"
   ]
  },
  {
   "cell_type": "code",
   "execution_count": null,
   "metadata": {},
   "outputs": [],
   "source": [
    "expr = And([Gt(x1, 1), Gt(x1, 2)])\n",
    "print(nice_repr(expr))\n",
    "print(nice_repr(simplify(expr)))"
   ]
  },
  {
   "cell_type": "code",
   "execution_count": null,
   "metadata": {},
   "outputs": [],
   "source": [
    "expr = And([In(x1, [1, 2, 3, 4]), In(x1, [3, 4, 5, 6])])\n",
    "print(nice_repr(expr))\n",
    "print(nice_repr(simplify(expr)))"
   ]
  },
  {
   "cell_type": "code",
   "execution_count": null,
   "metadata": {},
   "outputs": [],
   "source": [
    "expr = And([Gt(x1, 1), Gt(x1, 2), In(x2, [1, 2, 3, 4]), In(x2, [3, 4, 5, 6])])\n",
    "print(nice_repr(expr))\n",
    "print(nice_repr(simplify(expr)))"
   ]
  },
  {
   "cell_type": "code",
   "execution_count": null,
   "metadata": {},
   "outputs": [],
   "source": [
    "expr = Or([Gt(x1, 1), Gt(x1, 2)])\n",
    "print(nice_repr(expr))\n",
    "print(nice_repr(simplify(expr)))"
   ]
  },
  {
   "cell_type": "code",
   "execution_count": null,
   "metadata": {},
   "outputs": [],
   "source": [
    "expr = Or([In(x2, [1, 2, 3, 4]), In(x2, [3, 4, 5, 6])])\n",
    "print(nice_repr(expr))\n",
    "print(nice_repr(simplify(expr)))"
   ]
  },
  {
   "cell_type": "code",
   "execution_count": null,
   "metadata": {},
   "outputs": [],
   "source": [
    "expr = Or([Gt(x1, 1), Gt(x1, 2), In(x2, [1, 2, 3, 4]), In(x2, [3, 4, 5, 6])])\n",
    "print(nice_repr(expr))\n",
    "print(nice_repr(simplify(expr)))"
   ]
  },
  {
   "cell_type": "code",
   "execution_count": null,
   "metadata": {},
   "outputs": [],
   "source": [
    "expr = And([\n",
    "    And([Gt(x1, 1), Lt(x1, 2), Ge(x2, 1)]),\n",
    "    Or([Not(Ge(x1, 1.5)), Lt(x2, 0)])])"
   ]
  },
  {
   "cell_type": "code",
   "execution_count": null,
   "metadata": {},
   "outputs": [],
   "source": [
    "# This works! But the general strategy has a recursion problem.\n",
    "\n",
    "print(expr)\n",
    "print(type(to_dnf(expr)))\n",
    "print()\n",
    "\n",
    "a, b = to_dnf(expr).clauses\n",
    "print(nice_repr(a))\n",
    "print(nice_repr(b))\n",
    "print()\n",
    "\n",
    "sa = to_cnf(simplify(a))\n",
    "sb = to_cnf(simplify(b))\n",
    "print(nice_repr(sa))\n",
    "print(nice_repr(sb))\n",
    "print()\n",
    "\n",
    "result = to_cnf(Or([sa, sb]))\n",
    "print(nice_repr(result))"
   ]
  },
  {
   "cell_type": "code",
   "execution_count": null,
   "metadata": {},
   "outputs": [],
   "source": []
  }
 ],
 "metadata": {
  "kernelspec": {
   "display_name": "Python 3",
   "language": "python",
   "name": "python3"
  },
  "language_info": {
   "codemirror_mode": {
    "name": "ipython",
    "version": 3
   },
   "file_extension": ".py",
   "mimetype": "text/x-python",
   "name": "python",
   "nbconvert_exporter": "python",
   "pygments_lexer": "ipython3",
   "version": "3.6.3"
  }
 },
 "nbformat": 4,
 "nbformat_minor": 2
}
