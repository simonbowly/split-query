{
 "cells": [
  {
   "cell_type": "code",
   "execution_count": null,
   "metadata": {},
   "outputs": [],
   "source": [
    "from octo_spork.expressions import And, Or, Not, Ge, Gt, Le, Lt, Attribute\n",
    "from octo_spork.simplify import simplify\n",
    "from octo_spork.logic import to_cnf, to_dnf"
   ]
  },
  {
   "cell_type": "code",
   "execution_count": null,
   "metadata": {},
   "outputs": [],
   "source": [
    "x1, x2, x3 = [Attribute('x{}'.format(i+1)) for i in range(3)]"
   ]
  },
  {
   "cell_type": "code",
   "execution_count": null,
   "metadata": {},
   "outputs": [],
   "source": [
    "query = And([Ge(x1, 1), Le(x1, 5)])\n",
    "cached = And([Ge(x1, 3), Le(x1, 5)])\n",
    "print(simplify(And([query, Not(cached)])))"
   ]
  },
  {
   "cell_type": "code",
   "execution_count": null,
   "metadata": {},
   "outputs": [],
   "source": [
    "query = And([Ge(x1, 1), Le(x1, 5)])\n",
    "cached = Or([\n",
    "    And([Ge(x1, 0), Le(x1, 2)]),\n",
    "    And([Ge(x1, 4), Le(x1, 6)])])\n",
    "print(simplify(And([query, Not(cached)])))"
   ]
  },
  {
   "cell_type": "code",
   "execution_count": null,
   "metadata": {},
   "outputs": [],
   "source": [
    "query = And([Ge(x1, 1), Le(x1, 5), Ge(x2, 0), Le(x2, 4)])\n",
    "cached = And([Ge(x1, 1), Le(x1, 3), Ge(x2, 0), Le(x2, 2)])\n",
    "print('CNF')\n",
    "print(simplify(to_cnf(And([query, Not(cached)]))))\n",
    "print('DNF')\n",
    "print(simplify(to_dnf(And([query, Not(cached)]))))"
   ]
  },
  {
   "cell_type": "code",
   "execution_count": null,
   "metadata": {},
   "outputs": [],
   "source": [
    "query = And([Ge(x1, 1), Le(x1, 5), Ge(x2, 0), Le(x2, 4)])\n",
    "cached = Or([\n",
    "    And([Ge(x1, 2), Le(x1, 4), Ge(x2, 1), Le(x2, 3)])\n",
    "])\n",
    "print('CNF')\n",
    "print(simplify(to_cnf(And([query, Not(cached)]))))\n",
    "print('DNF')\n",
    "print(simplify(to_dnf(And([query, Not(cached)]))))"
   ]
  },
  {
   "cell_type": "code",
   "execution_count": null,
   "metadata": {},
   "outputs": [],
   "source": [
    "query = And([Ge(x1, 1), Le(x1, 5), Ge(x2, 0), Le(x2, 4)])\n",
    "cached = Or([\n",
    "    And([Ge(x1, 2), Le(x1, 5), Ge(x2, 1), Le(x2, 3)]),\n",
    "    And([Ge(x1, 1), Le(x1, 2)]),\n",
    "    And([Ge(x1, 2), Le(x1, 4)]),\n",
    "    And([Ge(x1, 3.5), Ge(x2, 2.8), Le(x1, 10), Le(x2, 10)])\n",
    "    \n",
    "])"
   ]
  },
  {
   "cell_type": "code",
   "execution_count": null,
   "metadata": {},
   "outputs": [],
   "source": [
    "def simplify_a_lot(expression):\n",
    "    ''' Do a few iterations of logical and domain simplifications. Repeated DNF\n",
    "    reductions and simplification seems to be a lot faster than CNF for forms\n",
    "    like And([e1, Not(Or([e2, e3, ...]))]) '''\n",
    "    prev = expression\n",
    "    for _ in range(10):\n",
    "        result = simplify(to_dnf(prev))\n",
    "        if result == prev:\n",
    "            return result\n",
    "        prev = result\n",
    "    return result\n",
    "\n",
    "simplify_a_lot(And([query, Not(cached)]))"
   ]
  },
  {
   "cell_type": "code",
   "execution_count": null,
   "metadata": {},
   "outputs": [],
   "source": [
    "# print('CNF')    # SLOOOOOOOW\n",
    "# print(simplify(to_cnf(And([query, Not(cached)]))))\n",
    "print('DNF')\n",
    "print(simplify(to_dnf(simplify((to_dnf(And([query, Not(cached)])))))))\n",
    "\n",
    "# Recursion approach is kind of mucked up...?\n",
    "# Doesn't handle or process literals on the way back up the tree (because it doesn't really go back up the tree)"
   ]
  },
  {
   "cell_type": "markdown",
   "metadata": {},
   "source": [
    "# TODO\n",
    "\n",
    "* Refine hypothesis query generation strategy to try some more sensible 2D/3D examples with this method.\n",
    "* Write basic python object filtering engine so correctness of simplifications can be tested."
   ]
  },
  {
   "cell_type": "code",
   "execution_count": null,
   "metadata": {},
   "outputs": [],
   "source": []
  }
 ],
 "metadata": {
  "kernelspec": {
   "display_name": "Python 3",
   "language": "python",
   "name": "python3"
  },
  "language_info": {
   "codemirror_mode": {
    "name": "ipython",
    "version": 3
   },
   "file_extension": ".py",
   "mimetype": "text/x-python",
   "name": "python",
   "nbconvert_exporter": "python",
   "pygments_lexer": "ipython3",
   "version": "3.6.3"
  }
 },
 "nbformat": 4,
 "nbformat_minor": 2
}
