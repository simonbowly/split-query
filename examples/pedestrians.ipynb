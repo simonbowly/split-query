{
 "cells": [
  {
   "cell_type": "code",
   "execution_count": null,
   "metadata": {
    "collapsed": true
   },
   "outputs": [],
   "source": [
    "%matplotlib inline\n",
    "\n",
    "from datetime import datetime\n",
    "import logging\n",
    "\n",
    "from octo_spork.query import Range, In, Column, Query, And\n",
    "from octo_spork.pandas_engine import PandasEngine\n",
    "from octo_spork.resolution_tree import create_tree, run_tree\n",
    "\n",
    "from pedestrians import columns, sources\n",
    "\n",
    "logging.basicConfig(level=logging.INFO)"
   ]
  },
  {
   "cell_type": "code",
   "execution_count": null,
   "metadata": {},
   "outputs": [],
   "source": [
    "# Query - to be configured by OO interface.\n",
    "query = Query(table='counts', select=columns, where=And([\n",
    "    Range(\n",
    "        Column('counts', 'datetime'),\n",
    "        lower=datetime(2016, 5, 1, 0, 0, 0),\n",
    "        upper=datetime(2016, 5, 8, 0, 0, 0),\n",
    "        incl_lower=True, incl_upper=True),\n",
    "    In(Column('counts', 'sensor_id'), [1, 2, 3])]))\n",
    "\n",
    "# Query resolution\n",
    "engine = PandasEngine()\n",
    "result_store = dict()\n",
    "tree = create_tree(query, sources)\n",
    "result = run_tree(tree, sources, engine, result_store)"
   ]
  },
  {
   "cell_type": "code",
   "execution_count": null,
   "metadata": {},
   "outputs": [],
   "source": [
    "result.set_index(['datetime', 'sensor_id']).unstack().plot()"
   ]
  },
  {
   "cell_type": "code",
   "execution_count": null,
   "metadata": {
    "collapsed": true
   },
   "outputs": [],
   "source": []
  }
 ],
 "metadata": {
  "kernelspec": {
   "display_name": "Python 3",
   "language": "python",
   "name": "python3"
  },
  "language_info": {
   "codemirror_mode": {
    "name": "ipython",
    "version": 3
   },
   "file_extension": ".py",
   "mimetype": "text/x-python",
   "name": "python",
   "nbconvert_exporter": "python",
   "pygments_lexer": "ipython3",
   "version": "3.5.2"
  }
 },
 "nbformat": 4,
 "nbformat_minor": 2
}
