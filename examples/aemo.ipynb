{
 "cells": [
  {
   "cell_type": "markdown",
   "metadata": {},
   "source": [
    "# AEMO Causer Pays Data\n",
    "\n",
    "Demos using a SplitQuery cache to load and analyse AEMO causer pays data for generators."
   ]
  },
  {
   "cell_type": "code",
   "execution_count": null,
   "metadata": {},
   "outputs": [],
   "source": [
    "# In lieu of a nice progress bar at this point, log messages show data retrieval.\n",
    "import logging\n",
    "logging.basicConfig(level=logging.INFO)\n",
    "\n",
    "# Stuff we'll need for filtering and plotting.\n",
    "%matplotlib inline\n",
    "import matplotlib.pyplot as plt\n",
    "from datetime import datetime\n",
    "\n",
    "# Data sets.\n",
    "from aemo import AEMOCauserPays, AEMOElementNames\n",
    "# Creates a dynamic dataset that loads data when needed.\n",
    "dataset = AEMOCauserPays()\n",
    "# Creates a dataframe (from disk cache if possible).\n",
    "elements = AEMOElementNames().get()"
   ]
  },
  {
   "cell_type": "code",
   "execution_count": null,
   "metadata": {},
   "outputs": [],
   "source": [
    "# Show element ids for wind farms.\n",
    "elements[elements.element_name.str.match('SUBSTN.*WF.*GEN')].sort_values('element_name')"
   ]
  },
  {
   "cell_type": "markdown",
   "metadata": {},
   "source": [
    "# Generation vs Forecast\n",
    "\n",
    "The AEMO data is stored in files covering 30min intervals.\n",
    "SplitQuery will load data files required to cover the datetime interval specified in the filter, cache the data for later use, and refine the loaded dataset to match the remaining filters."
   ]
  },
  {
   "cell_type": "code",
   "execution_count": null,
   "metadata": {},
   "outputs": [],
   "source": [
    "fig, ax = plt.subplots(figsize=(14, 10))\n",
    "(\n",
    "    dataset[\n",
    "        dataset.datetime.between(\n",
    "            datetime(2018, 8, 1, 21, 0), datetime(2018, 8, 2, 2, 0))\n",
    "        & dataset.element_id.isin([312, 316, 319])\n",
    "        & dataset.variable_id.isin([2, 3])]\n",
    "    .get()\n",
    "    .set_index(['datetime', 'variable_id', 'element_id'])\n",
    "    .value\n",
    "    .unstack().rename(columns=dict(elements.set_index('element_id').element_name))\n",
    "    .unstack().rename(columns={2: 'Gen_MW', 3: 'AWEFS'})\n",
    "    .plot(ax=ax)\n",
    ");"
   ]
  },
  {
   "cell_type": "code",
   "execution_count": null,
   "metadata": {},
   "outputs": [],
   "source": [
    "dataset.clear_cache()"
   ]
  },
  {
   "cell_type": "code",
   "execution_count": null,
   "metadata": {},
   "outputs": [],
   "source": []
  }
 ],
 "metadata": {
  "kernelspec": {
   "display_name": "Python 3",
   "language": "python",
   "name": "python3"
  },
  "language_info": {
   "codemirror_mode": {
    "name": "ipython",
    "version": 3
   },
   "file_extension": ".py",
   "mimetype": "text/x-python",
   "name": "python",
   "nbconvert_exporter": "python",
   "pygments_lexer": "ipython3",
   "version": "3.6.5"
  }
 },
 "nbformat": 4,
 "nbformat_minor": 2
}
