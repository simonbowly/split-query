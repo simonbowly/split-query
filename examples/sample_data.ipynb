{
 "cells": [
  {
   "cell_type": "code",
   "execution_count": null,
   "metadata": {},
   "outputs": [],
   "source": [
    "from datetime import datetime\n",
    "import logging\n",
    "\n",
    "from sample_dataset import SampleDataset\n",
    "\n",
    "# Log the remote queries as they are run.\n",
    "logging.basicConfig(level=logging.INFO)"
   ]
  },
  {
   "cell_type": "code",
   "execution_count": null,
   "metadata": {},
   "outputs": [],
   "source": [
    "# Create an object for the dataset. This dataset uses a persistent file cache\n",
    "# which can be cleared.\n",
    "dataset = SampleDataset()\n",
    "dataset.clear_cache()"
   ]
  },
  {
   "cell_type": "code",
   "execution_count": null,
   "metadata": {},
   "outputs": [],
   "source": [
    "# Still working on what this should display.\n",
    "dataset"
   ]
  },
  {
   "cell_type": "code",
   "execution_count": null,
   "metadata": {},
   "outputs": [],
   "source": [
    "# Note that you must use isin, not == for tag-type data, even for a single tag. Fixing this soon...\n",
    "# If the cache is empty, this will run two queries (for tag1 and tag2) for the date range.\n",
    "\n",
    "# Note that filtered is still just a representative object.\n",
    "# Running .get() returns a dataframe.\n",
    "\n",
    "filtered1 = dataset[\n",
    "    dataset.timestamp.between(datetime(2018, 1, 1), datetime(2018, 1, 3)) &\n",
    "    dataset.interval.isin(['1H']) &\n",
    "    dataset.tag_name.isin(['tag1', 'tag2'])]\n",
    "filtered1.get().head()"
   ]
  },
  {
   "cell_type": "code",
   "execution_count": null,
   "metadata": {},
   "outputs": [],
   "source": [
    "# This runs queries for tag1, tag2, tag3 separately, only for the missing records.\n",
    "filtered2 = dataset[\n",
    "    dataset.timestamp.between(datetime(2018, 1, 1), datetime(2018, 1, 4)) &\n",
    "    dataset.interval.isin(['1H']) &\n",
    "    dataset.tag_name.isin(['tag1', 'tag2', 'tag3'])]\n",
    "filtered2.get().head()"
   ]
  },
  {
   "cell_type": "code",
   "execution_count": null,
   "metadata": {},
   "outputs": [],
   "source": [
    "# Re-runs the same query, but the remote is not called.\n",
    "df = filtered1.get()\n",
    "print(df.tag_name.unique())\n",
    "df.head()"
   ]
  },
  {
   "cell_type": "code",
   "execution_count": null,
   "metadata": {},
   "outputs": [],
   "source": [
    "# This is disappointingly slow because it has to piece together\n",
    "# quite a few different queries before determining that it has all\n",
    "# the required data. Working on it...\n",
    "df = filtered2.get()\n",
    "print(df.tag_name.unique())\n",
    "df.head()"
   ]
  },
  {
   "cell_type": "code",
   "execution_count": null,
   "metadata": {},
   "outputs": [],
   "source": []
  }
 ],
 "metadata": {
  "kernelspec": {
   "display_name": "Python 3",
   "language": "python",
   "name": "python3"
  },
  "language_info": {
   "codemirror_mode": {
    "name": "ipython",
    "version": 3
   },
   "file_extension": ".py",
   "mimetype": "text/x-python",
   "name": "python",
   "nbconvert_exporter": "python",
   "pygments_lexer": "ipython3",
   "version": "3.6.3"
  }
 },
 "nbformat": 4,
 "nbformat_minor": 2
}
