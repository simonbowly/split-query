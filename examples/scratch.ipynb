{
 "cells": [
  {
   "cell_type": "markdown",
   "metadata": {},
   "source": [
    "# Test cases\n",
    "\n",
    "Cases below are working as designed.\n",
    "Better avenue for test cases: rather than an arbitrary tree, use a sequence of intervals/rectangles/boxes added and subtracted.\n",
    "Test these on gridded data to validate the simplifier and data filtering."
   ]
  },
  {
   "cell_type": "code",
   "execution_count": null,
   "metadata": {},
   "outputs": [],
   "source": [
    "from functools import lru_cache\n",
    "\n",
    "from split_query.simplify import simplify_tree\n",
    "from split_query.domain import simplify_domain\n",
    "from split_query.expressions import And, Or, Not, Eq, Le, Lt, Ge, Gt, Attribute, packb, unpackb\n",
    "from split_query.truth_table import expand_dnf\n",
    "\n",
    "def pprint(result):\n",
    "    if isinstance(result, And) or isinstance(result, Or):\n",
    "        print(result.__class__.__name__)\n",
    "        for cl in result.clauses:\n",
    "            print(cl)\n",
    "    else:\n",
    "        print(result)\n",
    "\n",
    "def interval(xl, xu):\n",
    "    x, y = (Attribute(name) for name in 'xy')\n",
    "    return And([Ge(x, xl), Le(x, xu)])\n",
    "\n",
    "def rect(xl, xu, yl, yu):\n",
    "    x, y = (Attribute(name) for name in 'xy')\n",
    "    return And([Ge(x, xl), Le(x, xu), Ge(y, yl), Le(y, yu)])\n",
    "\n",
    "@lru_cache()    # Because some of the simplifications are slow...\n",
    "def simplify(expression):\n",
    "    return simplify_tree(simplify_domain(expand_dnf(simplify_domain(simplify_tree(expression)))))"
   ]
  },
  {
   "cell_type": "code",
   "execution_count": null,
   "metadata": {},
   "outputs": [],
   "source": [
    "# The really simple case: subtract the same query, get False, so we know all data is covered.\n",
    "expression = And([rect(0, 1, 0, 1), Not(rect(0, 1, 0, 1))])\n",
    "pprint(simplify(expression))"
   ]
  },
  {
   "cell_type": "code",
   "execution_count": null,
   "metadata": {},
   "outputs": [],
   "source": [
    "# Slightly more complicated: subtract where the difference is only one dimensional.\n",
    "expression = And([interval(0, 3), Not(interval(1, 2))])\n",
    "pprint(simplify(expression))"
   ]
  },
  {
   "cell_type": "code",
   "execution_count": null,
   "metadata": {},
   "outputs": [],
   "source": [
    "# Subtracting 2D rectangles.\n",
    "expression = And([rect(0, 2, 0, 2), Not(rect(0, 1, 0, 1))])\n",
    "pprint(simplify(expression))"
   ]
  },
  {
   "cell_type": "code",
   "execution_count": null,
   "metadata": {},
   "outputs": [],
   "source": [
    "# Subtracting 2D intervals. This one gets a lot more complex, so the original query is probably\n",
    "# more sensible to use. There is some opportunistic simplification to be done by pairing up the\n",
    "# different And clauses here (creating larger rectangles).\n",
    "expression = And([rect(0, 3, 0, 3), Not(rect(1, 2, 1, 2))])\n",
    "pprint(simplify(expression))"
   ]
  },
  {
   "cell_type": "code",
   "execution_count": null,
   "metadata": {},
   "outputs": [],
   "source": [
    "# Much subtraction of 2D intervals to create a bigger query. This is the key useful bit: the\n",
    "# cache will be able to tell when data requirements are completely satisfied.\n",
    "expression = And([\n",
    "    rect(0, 3, 0, 3),\n",
    "    Not(rect(0, 3, 0, 1)),\n",
    "    Not(rect(1, 2, 1, 2)),\n",
    "    Not(rect(0, 1, 1, 3)),\n",
    "    Not(rect(2, 3, 1, 4)),\n",
    "    Not(rect(1, 3, 2, 5)),\n",
    "])\n",
    "pprint(simplify(expression))"
   ]
  },
  {
   "cell_type": "code",
   "execution_count": null,
   "metadata": {},
   "outputs": [],
   "source": [
    "# Definitely some simplification strategies to be done here.\n",
    "expression = And([True, Not(rect(0, 1, 0, 1))])\n",
    "result = simplify(expression)\n",
    "pprint(result)"
   ]
  },
  {
   "cell_type": "code",
   "execution_count": null,
   "metadata": {},
   "outputs": [],
   "source": [
    "packed = packb(result)\n",
    "unpacked = unpackb(packed)\n",
    "pprint(unpacked)"
   ]
  },
  {
   "cell_type": "code",
   "execution_count": null,
   "metadata": {},
   "outputs": [],
   "source": []
  }
 ],
 "metadata": {
  "kernelspec": {
   "display_name": "Python 3",
   "language": "python",
   "name": "python3"
  },
  "language_info": {
   "codemirror_mode": {
    "name": "ipython",
    "version": 3
   },
   "file_extension": ".py",
   "mimetype": "text/x-python",
   "name": "python",
   "nbconvert_exporter": "python",
   "pygments_lexer": "ipython3",
   "version": "3.6.3"
  }
 },
 "nbformat": 4,
 "nbformat_minor": 2
}
