{
 "cells": [
  {
   "cell_type": "code",
   "execution_count": null,
   "metadata": {},
   "outputs": [],
   "source": [
    "import pandas as pd"
   ]
  },
  {
   "cell_type": "code",
   "execution_count": null,
   "metadata": {},
   "outputs": [],
   "source": [
    "def read_chunked_month(file_name, **read_kwargs):\n",
    "    ''' Break up reading large file by month. Requires ordered data. '''\n",
    "    for chunk in pd.read_csv(file_name, **read_kwargs):\n",
    "        for group in sorted(chunk.groupby('Month')):\n",
    "            yield group\n",
    "\n",
    "def read(file_name, **read_kwargs):\n",
    "    current_month, current_df = None, None\n",
    "    for month, df in read_chunked_month(file_name, **read_kwargs):\n",
    "        assert (df.Month == month).all()\n",
    "        if current_month is None:\n",
    "            current_month, current_df = month, df\n",
    "        else:\n",
    "            assert month >= current_month\n",
    "            if month == current_month:\n",
    "                current_df = pd.concat([current_df, df])\n",
    "            else:\n",
    "                yield current_month, current_df\n",
    "                current_month, current_df = month, df\n",
    "    yield current_month, current_df"
   ]
  },
  {
   "cell_type": "code",
   "execution_count": null,
   "metadata": {},
   "outputs": [],
   "source": [
    "for month, df in read(\n",
    "        '/home/simon/Downloads/airline_data/1988.csv.bz2',\n",
    "        compression='bz2', chunksize=100000):\n",
    "    print(month, df.shape)"
   ]
  },
  {
   "cell_type": "code",
   "execution_count": null,
   "metadata": {},
   "outputs": [],
   "source": [
    "for month, df in read(\n",
    "        '/home/simon/Downloads/airline_data/1988.csv.bz2',\n",
    "        compression='bz2', chunksize=1000000):\n",
    "    print(month, df.shape)"
   ]
  },
  {
   "cell_type": "code",
   "execution_count": null,
   "metadata": {},
   "outputs": [],
   "source": []
  }
 ],
 "metadata": {
  "kernelspec": {
   "display_name": "Python 3",
   "language": "python",
   "name": "python3"
  },
  "language_info": {
   "codemirror_mode": {
    "name": "ipython",
    "version": 3
   },
   "file_extension": ".py",
   "mimetype": "text/x-python",
   "name": "python",
   "nbconvert_exporter": "python",
   "pygments_lexer": "ipython3",
   "version": "3.6.3"
  }
 },
 "nbformat": 4,
 "nbformat_minor": 2
}
