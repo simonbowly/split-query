{
 "cells": [
  {
   "cell_type": "code",
   "execution_count": null,
   "metadata": {},
   "outputs": [],
   "source": [
    "from datetime import datetime\n",
    "%matplotlib inline\n",
    "import matplotlib.pyplot as plt\n",
    "import pandas as pd\n",
    "\n",
    "from client import AEMOCauserPaysRemote\n",
    "\n",
    "dataset = AEMOCauserPaysRemote()"
   ]
  },
  {
   "cell_type": "code",
   "execution_count": null,
   "metadata": {},
   "outputs": [],
   "source": [
    "fig, ax = plt.subplots(figsize=(14, 10))\n",
    "(\n",
    "    dataset[\n",
    "        dataset.datetime.between(\n",
    "            datetime(2018, 7, 6, 20, 0), datetime(2018, 7, 7, 6, 0))\n",
    "        & dataset.element_id.isin([312])\n",
    "        & dataset.variable_id.isin([2, 3])]\n",
    "    .get()\n",
    "    .groupby(['datetime', 'variable_id'])\n",
    "    .value.mean()\n",
    "    .unstack().rename(columns={2: 'Generation', 3: 'AWEFS'})\n",
    "    .resample('4s').ffill()\n",
    "    .plot(ax=ax)\n",
    ")"
   ]
  },
  {
   "cell_type": "code",
   "execution_count": null,
   "metadata": {},
   "outputs": [],
   "source": []
  }
 ],
 "metadata": {
  "kernelspec": {
   "display_name": "Python 3",
   "language": "python",
   "name": "python3"
  },
  "language_info": {
   "codemirror_mode": {
    "name": "ipython",
    "version": 3
   },
   "file_extension": ".py",
   "mimetype": "text/x-python",
   "name": "python",
   "nbconvert_exporter": "python",
   "pygments_lexer": "ipython3",
   "version": "3.6.5"
  }
 },
 "nbformat": 4,
 "nbformat_minor": 2
}
