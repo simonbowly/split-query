{
 "cells": [
  {
   "cell_type": "code",
   "execution_count": null,
   "metadata": {},
   "outputs": [],
   "source": [
    "from hypothesis import strategies as st\n",
    "from octo_spork.expressions import Attribute, Le, Lt, Ge, Gt, And, Or, Not\n",
    "\n",
    "def _link_clauses(clauses):\n",
    "    linked = st.one_of(\n",
    "        st.lists(clauses, min_size=1).map(And),\n",
    "        st.lists(clauses, min_size=1).map(Or))\n",
    "    return linked | linked.map(Not)\n",
    "\n",
    "def inequalities(attributes, values):\n",
    "    ''' Combines names and values to create an inequality clause strategy. '''\n",
    "    return st.one_of(\n",
    "        st.tuples(attributes, values).map(lambda r: Le(*r)),\n",
    "        st.tuples(attributes, values).map(lambda r: Lt(*r)),\n",
    "        st.tuples(attributes, values).map(lambda r: Ge(*r)),\n",
    "        st.tuples(attributes, values).map(lambda r: Gt(*r)))\n",
    "\n",
    "def attributes(names):\n",
    "    ''' Draw from the given names to create a strategy for Attribute\n",
    "    objects. If names is an iterable it will be converted to a one_of,\n",
    "    otherwise names are used directly.'''\n",
    "    try:\n",
    "        names = st.one_of(st.just(n) for n in names)\n",
    "    except:\n",
    "        pass\n",
    "    return names.map(Attribute)\n",
    "\n",
    "def expressions(clauses, max_leaves):\n",
    "    ''' Generate compound expressions from the given clause strategy,\n",
    "    linking the tree structure with And/Or/Not branches. '''\n",
    "    return st.recursive(clauses, _link_clauses, max_leaves)"
   ]
  },
  {
   "cell_type": "code",
   "execution_count": null,
   "metadata": {},
   "outputs": [],
   "source": [
    "clauses = inequalities(attributes('xyz'), values=st.integers(min_value=-10, max_value=10))\n",
    "strategy = expressions(clauses, max_leaves=20)"
   ]
  },
  {
   "cell_type": "code",
   "execution_count": null,
   "metadata": {},
   "outputs": [],
   "source": [
    "from octo_spork.logic import to_dnf, to_cnf\n",
    "from octo_spork.simplify import simplify\n",
    "\n",
    "expression = strategy.example()\n",
    "print(expression)\n",
    "print(simplify(to_dnf(simplify(expression))))"
   ]
  },
  {
   "cell_type": "code",
   "execution_count": null,
   "metadata": {},
   "outputs": [],
   "source": []
  }
 ],
 "metadata": {
  "kernelspec": {
   "display_name": "Python 3",
   "language": "python",
   "name": "python3"
  },
  "language_info": {
   "codemirror_mode": {
    "name": "ipython",
    "version": 3
   },
   "file_extension": ".py",
   "mimetype": "text/x-python",
   "name": "python",
   "nbconvert_exporter": "python",
   "pygments_lexer": "ipython3",
   "version": "3.6.3"
  }
 },
 "nbformat": 4,
 "nbformat_minor": 2
}
